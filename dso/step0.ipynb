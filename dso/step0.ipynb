{
 "metadata": {
  "language_info": {
   "codemirror_mode": {
    "name": "ipython",
    "version": 3
   },
   "file_extension": ".py",
   "mimetype": "text/x-python",
   "name": "python",
   "nbconvert_exporter": "python",
   "pygments_lexer": "ipython3",
   "version": "3.9.2-final"
  },
  "orig_nbformat": 2,
  "kernelspec": {
   "name": "python3",
   "display_name": "Python 3",
   "language": "python"
  }
 },
 "nbformat": 4,
 "nbformat_minor": 2,
 "cells": [
  {
   "source": [
    "import numpy as np\n",
    "import pandas as pd\n",
    "\n",
    "\n",
    "def load_dataset(filename):\n",
    "    # Read dataset\n",
    "    df = pd.read_csv(filename, low_memory=False)\n",
    "\n",
    "    print(\"Total size:\")\n",
    "    print(df.info(), '\\n\\n')\n",
    "\n",
    "    # Filter transaction type equal to invoiced\n",
    "    df = df[df['TransactionType'] == 'FI-InvoicedDocument']\n",
    "\n",
    "    print(\"Total size (transaction type filter):\")\n",
    "    print(df.info(), '\\n\\n')\n",
    "\n",
    "    # Select columns of interest\n",
    "    df = df[[\n",
    "        'DocumentKey',\n",
    "        'CustomerKey',\n",
    "        'DocumentDate',\n",
    "        'DueDate',\n",
    "        'ClearingDate',\n",
    "        'DocumentType',\n",
    "        'PaymentTerms',\n",
    "        'InvoicedAmount',\n",
    "    ]].dropna()\n",
    "\n",
    "    print(\"Total size (dropna filter):\")\n",
    "    print(df.info(), '\\n\\n')\n",
    "\n",
    "    # Cast dTypes of the columns\n",
    "    for col in ['DocumentKey']:\n",
    "        df[col] = df[col].apply(lambda x: x.split('|')[2] if len(x.split('|')) == 3 else np.nan)\n",
    "\n",
    "    for col in ['DocumentDate', 'DueDate', 'ClearingDate']:\n",
    "        df[col] = pd.to_datetime(df[col], errors='coerce')\n",
    "\n",
    "    for col in ['DocumentType', 'PaymentTerms']:\n",
    "        df[col] = df[col].apply(lambda x: int(''.join(format(ord(w), '') for w in str(x))))\n",
    "\n",
    "    for col in ['DocumentKey', 'CustomerKey', 'InvoicedAmount']:\n",
    "        df[col] = pd.to_numeric(df[col], errors='coerce')\n",
    "\n",
    "    return df"
   ],
   "cell_type": "code",
   "metadata": {},
   "execution_count": null,
   "outputs": []
  },
  {
   "cell_type": "code",
   "execution_count": null,
   "metadata": {},
   "outputs": [],
   "source": [
    "# Load and merge datasets\n",
    "df1 = load_dataset('./data/base0a.csv')\n",
    "df2 = load_dataset('./data/base0b.csv')\n",
    "df = pd.concat([df1, df2])"
   ]
  },
  {
   "cell_type": "code",
   "execution_count": null,
   "metadata": {},
   "outputs": [],
   "source": [
    "# Filter data from logical business rules\n",
    "df = df[(df['DocumentDate'] < df['DueDate']) & (df['DocumentDate'] < df['ClearingDate'])]\n",
    "df.info()"
   ]
  },
  {
   "cell_type": "code",
   "execution_count": null,
   "metadata": {},
   "outputs": [],
   "source": [
    "# Filter data from business rules\n",
    "df = df[df['InvoicedAmount'] >= 1000]\n",
    "df.info()"
   ]
  },
  {
   "cell_type": "code",
   "execution_count": null,
   "metadata": {},
   "outputs": [],
   "source": [
    "# Save new dataset\n",
    "df.sort_values(by=['DueDate'], ascending=True, ignore_index=False, inplace=True)\n",
    "df.reset_index(drop=True, inplace=True)\n",
    "\n",
    "df.to_csv('./data/base1.csv', index=False)"
   ]
  }
 ]
}